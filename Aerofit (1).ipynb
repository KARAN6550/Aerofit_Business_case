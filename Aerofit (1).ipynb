{
 "cells": [
  {
   "cell_type": "markdown",
   "id": "4f6b9196-b7e4-46bc-a41e-d048e8a1c35d",
   "metadata": {},
   "source": [
    "### Introduction "
   ]
  },
  {
   "cell_type": "markdown",
   "id": "db1b863a-33fc-4306-b964-8a6f187cb2b7",
   "metadata": {},
   "source": [
    "Aerofit, a prominent brand in fitness equipment, offers a diverse range of products, including treadmills, exercise bikes, gym machines, and fitness accessories, designed to meet the needs of a wide audience. To enhance product recommendations for new customers, the market research team at Aerofit is analyzing customer characteristics to identify target audiences for each type of treadmill, aiming to uncover any significant differences among product users."
   ]
  },
  {
   "cell_type": "code",
   "execution_count": 3,
   "id": "8272f751-a826-47b3-a157-f1f187bb2db3",
   "metadata": {},
   "outputs": [],
   "source": [
    "import numpy as np\n",
    "import pandas as pd\n",
    "import seaborn as sns\n",
    "from  matplotlib import pyplot as plt"
   ]
  },
  {
   "cell_type": "code",
   "execution_count": 4,
   "id": "6cd07faa-1766-4e5f-8434-0cc4dbb01315",
   "metadata": {},
   "outputs": [],
   "source": [
    "df=pd.read_csv(\"/Users/karan/Downloads/aerofit_treadmill.txt\")"
   ]
  },
  {
   "cell_type": "code",
   "execution_count": 5,
   "id": "f0d0321b-81ed-46fe-bf92-828650f5222c",
   "metadata": {},
   "outputs": [
    {
     "data": {
      "text/html": [
       "<div>\n",
       "<style scoped>\n",
       "    .dataframe tbody tr th:only-of-type {\n",
       "        vertical-align: middle;\n",
       "    }\n",
       "\n",
       "    .dataframe tbody tr th {\n",
       "        vertical-align: top;\n",
       "    }\n",
       "\n",
       "    .dataframe thead th {\n",
       "        text-align: right;\n",
       "    }\n",
       "</style>\n",
       "<table border=\"1\" class=\"dataframe\">\n",
       "  <thead>\n",
       "    <tr style=\"text-align: right;\">\n",
       "      <th></th>\n",
       "      <th>Product</th>\n",
       "      <th>Age</th>\n",
       "      <th>Gender</th>\n",
       "      <th>Education</th>\n",
       "      <th>MaritalStatus</th>\n",
       "      <th>Usage</th>\n",
       "      <th>Fitness</th>\n",
       "      <th>Income</th>\n",
       "      <th>Miles</th>\n",
       "    </tr>\n",
       "  </thead>\n",
       "  <tbody>\n",
       "    <tr>\n",
       "      <th>0</th>\n",
       "      <td>KP281</td>\n",
       "      <td>18</td>\n",
       "      <td>Male</td>\n",
       "      <td>14</td>\n",
       "      <td>Single</td>\n",
       "      <td>3</td>\n",
       "      <td>4</td>\n",
       "      <td>29562</td>\n",
       "      <td>112</td>\n",
       "    </tr>\n",
       "    <tr>\n",
       "      <th>1</th>\n",
       "      <td>KP281</td>\n",
       "      <td>19</td>\n",
       "      <td>Male</td>\n",
       "      <td>15</td>\n",
       "      <td>Single</td>\n",
       "      <td>2</td>\n",
       "      <td>3</td>\n",
       "      <td>31836</td>\n",
       "      <td>75</td>\n",
       "    </tr>\n",
       "    <tr>\n",
       "      <th>2</th>\n",
       "      <td>KP281</td>\n",
       "      <td>19</td>\n",
       "      <td>Female</td>\n",
       "      <td>14</td>\n",
       "      <td>Partnered</td>\n",
       "      <td>4</td>\n",
       "      <td>3</td>\n",
       "      <td>30699</td>\n",
       "      <td>66</td>\n",
       "    </tr>\n",
       "    <tr>\n",
       "      <th>3</th>\n",
       "      <td>KP281</td>\n",
       "      <td>19</td>\n",
       "      <td>Male</td>\n",
       "      <td>12</td>\n",
       "      <td>Single</td>\n",
       "      <td>3</td>\n",
       "      <td>3</td>\n",
       "      <td>32973</td>\n",
       "      <td>85</td>\n",
       "    </tr>\n",
       "    <tr>\n",
       "      <th>4</th>\n",
       "      <td>KP281</td>\n",
       "      <td>20</td>\n",
       "      <td>Male</td>\n",
       "      <td>13</td>\n",
       "      <td>Partnered</td>\n",
       "      <td>4</td>\n",
       "      <td>2</td>\n",
       "      <td>35247</td>\n",
       "      <td>47</td>\n",
       "    </tr>\n",
       "  </tbody>\n",
       "</table>\n",
       "</div>"
      ],
      "text/plain": [
       "  Product  Age  Gender  Education MaritalStatus  Usage  Fitness  Income  Miles\n",
       "0   KP281   18    Male         14        Single      3        4   29562    112\n",
       "1   KP281   19    Male         15        Single      2        3   31836     75\n",
       "2   KP281   19  Female         14     Partnered      4        3   30699     66\n",
       "3   KP281   19    Male         12        Single      3        3   32973     85\n",
       "4   KP281   20    Male         13     Partnered      4        2   35247     47"
      ]
     },
     "execution_count": 5,
     "metadata": {},
     "output_type": "execute_result"
    }
   ],
   "source": [
    "df.head()"
   ]
  },
  {
   "cell_type": "code",
   "execution_count": 6,
   "id": "26a983e6-81b6-4e1b-b2b7-35479f3a1363",
   "metadata": {},
   "outputs": [
    {
     "data": {
      "text/plain": [
       "(180, 9)"
      ]
     },
     "execution_count": 6,
     "metadata": {},
     "output_type": "execute_result"
    }
   ],
   "source": [
    "df.shape"
   ]
  },
  {
   "cell_type": "markdown",
   "id": "793129e8-45e4-4b68-aab8-b87c3702f8ad",
   "metadata": {},
   "source": [
    "There are total 180 rows and 9 columns."
   ]
  },
  {
   "cell_type": "code",
   "execution_count": 8,
   "id": "cfeb8b39-b7f2-4e5a-8814-d01d265fc4b7",
   "metadata": {},
   "outputs": [
    {
     "name": "stdout",
     "output_type": "stream",
     "text": [
      "<class 'pandas.core.frame.DataFrame'>\n",
      "RangeIndex: 180 entries, 0 to 179\n",
      "Data columns (total 9 columns):\n",
      " #   Column         Non-Null Count  Dtype \n",
      "---  ------         --------------  ----- \n",
      " 0   Product        180 non-null    object\n",
      " 1   Age            180 non-null    int64 \n",
      " 2   Gender         180 non-null    object\n",
      " 3   Education      180 non-null    int64 \n",
      " 4   MaritalStatus  180 non-null    object\n",
      " 5   Usage          180 non-null    int64 \n",
      " 6   Fitness        180 non-null    int64 \n",
      " 7   Income         180 non-null    int64 \n",
      " 8   Miles          180 non-null    int64 \n",
      "dtypes: int64(6), object(3)\n",
      "memory usage: 12.8+ KB\n"
     ]
    }
   ],
   "source": [
    "df.info()"
   ]
  },
  {
   "cell_type": "markdown",
   "id": "8e5c7b27-8e6e-425d-bcb0-0c933dcd2b76",
   "metadata": {},
   "source": [
    "we can clearly see that there are no missing values and only Product,Gender,MaritalStatus is having an object datatype."
   ]
  },
  {
   "cell_type": "code",
   "execution_count": 10,
   "id": "2b5dde7f-6276-4cf4-81d2-e3ed0c42e412",
   "metadata": {},
   "outputs": [
    {
     "data": {
      "text/plain": [
       "array(['KP281', 'KP481', 'KP781'], dtype=object)"
      ]
     },
     "execution_count": 10,
     "metadata": {},
     "output_type": "execute_result"
    }
   ],
   "source": [
    "df[\"Product\"].unique()"
   ]
  },
  {
   "cell_type": "markdown",
   "id": "25c2e8f0-cbf5-4314-b2ee-aac760d45939",
   "metadata": {},
   "source": [
    "From the above inference, we can say that there are three different types of products. which are 'KP281', 'KP481', 'KP781'.\n",
    "\n",
    "The price for the 'KP281' is $1,500  which is more like a economical model.\n",
    "The price for the 'KP481' is $1,750  which is more like a mid-price range model.\n",
    "The price for the 'KP781' is $2,500  which is more like a top-tier category with advanced features range model."
   ]
  },
  {
   "cell_type": "code",
   "execution_count": 12,
   "id": "6e13439a-04a9-4794-aaca-f1ddbe3b9f31",
   "metadata": {},
   "outputs": [
    {
     "data": {
      "text/html": [
       "<div>\n",
       "<style scoped>\n",
       "    .dataframe tbody tr th:only-of-type {\n",
       "        vertical-align: middle;\n",
       "    }\n",
       "\n",
       "    .dataframe tbody tr th {\n",
       "        vertical-align: top;\n",
       "    }\n",
       "\n",
       "    .dataframe thead th {\n",
       "        text-align: right;\n",
       "    }\n",
       "</style>\n",
       "<table border=\"1\" class=\"dataframe\">\n",
       "  <thead>\n",
       "    <tr style=\"text-align: right;\">\n",
       "      <th></th>\n",
       "      <th>Age</th>\n",
       "      <th>Education</th>\n",
       "      <th>Usage</th>\n",
       "      <th>Fitness</th>\n",
       "      <th>Income</th>\n",
       "      <th>Miles</th>\n",
       "    </tr>\n",
       "  </thead>\n",
       "  <tbody>\n",
       "    <tr>\n",
       "      <th>count</th>\n",
       "      <td>180.000000</td>\n",
       "      <td>180.000000</td>\n",
       "      <td>180.000000</td>\n",
       "      <td>180.000000</td>\n",
       "      <td>180.000000</td>\n",
       "      <td>180.000000</td>\n",
       "    </tr>\n",
       "    <tr>\n",
       "      <th>mean</th>\n",
       "      <td>28.788889</td>\n",
       "      <td>15.572222</td>\n",
       "      <td>3.455556</td>\n",
       "      <td>3.311111</td>\n",
       "      <td>53719.577778</td>\n",
       "      <td>103.194444</td>\n",
       "    </tr>\n",
       "    <tr>\n",
       "      <th>std</th>\n",
       "      <td>6.943498</td>\n",
       "      <td>1.617055</td>\n",
       "      <td>1.084797</td>\n",
       "      <td>0.958869</td>\n",
       "      <td>16506.684226</td>\n",
       "      <td>51.863605</td>\n",
       "    </tr>\n",
       "    <tr>\n",
       "      <th>min</th>\n",
       "      <td>18.000000</td>\n",
       "      <td>12.000000</td>\n",
       "      <td>2.000000</td>\n",
       "      <td>1.000000</td>\n",
       "      <td>29562.000000</td>\n",
       "      <td>21.000000</td>\n",
       "    </tr>\n",
       "    <tr>\n",
       "      <th>25%</th>\n",
       "      <td>24.000000</td>\n",
       "      <td>14.000000</td>\n",
       "      <td>3.000000</td>\n",
       "      <td>3.000000</td>\n",
       "      <td>44058.750000</td>\n",
       "      <td>66.000000</td>\n",
       "    </tr>\n",
       "    <tr>\n",
       "      <th>50%</th>\n",
       "      <td>26.000000</td>\n",
       "      <td>16.000000</td>\n",
       "      <td>3.000000</td>\n",
       "      <td>3.000000</td>\n",
       "      <td>50596.500000</td>\n",
       "      <td>94.000000</td>\n",
       "    </tr>\n",
       "    <tr>\n",
       "      <th>75%</th>\n",
       "      <td>33.000000</td>\n",
       "      <td>16.000000</td>\n",
       "      <td>4.000000</td>\n",
       "      <td>4.000000</td>\n",
       "      <td>58668.000000</td>\n",
       "      <td>114.750000</td>\n",
       "    </tr>\n",
       "    <tr>\n",
       "      <th>max</th>\n",
       "      <td>50.000000</td>\n",
       "      <td>21.000000</td>\n",
       "      <td>7.000000</td>\n",
       "      <td>5.000000</td>\n",
       "      <td>104581.000000</td>\n",
       "      <td>360.000000</td>\n",
       "    </tr>\n",
       "  </tbody>\n",
       "</table>\n",
       "</div>"
      ],
      "text/plain": [
       "              Age   Education       Usage     Fitness         Income  \\\n",
       "count  180.000000  180.000000  180.000000  180.000000     180.000000   \n",
       "mean    28.788889   15.572222    3.455556    3.311111   53719.577778   \n",
       "std      6.943498    1.617055    1.084797    0.958869   16506.684226   \n",
       "min     18.000000   12.000000    2.000000    1.000000   29562.000000   \n",
       "25%     24.000000   14.000000    3.000000    3.000000   44058.750000   \n",
       "50%     26.000000   16.000000    3.000000    3.000000   50596.500000   \n",
       "75%     33.000000   16.000000    4.000000    4.000000   58668.000000   \n",
       "max     50.000000   21.000000    7.000000    5.000000  104581.000000   \n",
       "\n",
       "            Miles  \n",
       "count  180.000000  \n",
       "mean   103.194444  \n",
       "std     51.863605  \n",
       "min     21.000000  \n",
       "25%     66.000000  \n",
       "50%     94.000000  \n",
       "75%    114.750000  \n",
       "max    360.000000  "
      ]
     },
     "execution_count": 12,
     "metadata": {},
     "output_type": "execute_result"
    }
   ],
   "source": [
    "df.describe()"
   ]
  },
  {
   "cell_type": "markdown",
   "id": "1424184b-2eef-4bc7-bb90-28f9709b4d2a",
   "metadata": {},
   "source": [
    "we can clearly see that mostly the age of the people is between 18 and 33 years.However, there are also people who are around 50 years old."
   ]
  },
  {
   "cell_type": "code",
   "execution_count": 14,
   "id": "d5bc5572-974d-42b5-8bd2-83ff9fa93c47",
   "metadata": {},
   "outputs": [
    {
     "data": {
      "text/html": [
       "<div>\n",
       "<style scoped>\n",
       "    .dataframe tbody tr th:only-of-type {\n",
       "        vertical-align: middle;\n",
       "    }\n",
       "\n",
       "    .dataframe tbody tr th {\n",
       "        vertical-align: top;\n",
       "    }\n",
       "\n",
       "    .dataframe thead th {\n",
       "        text-align: right;\n",
       "    }\n",
       "</style>\n",
       "<table border=\"1\" class=\"dataframe\">\n",
       "  <thead>\n",
       "    <tr style=\"text-align: right;\">\n",
       "      <th></th>\n",
       "      <th>Product</th>\n",
       "      <th>Gender</th>\n",
       "      <th>MaritalStatus</th>\n",
       "    </tr>\n",
       "  </thead>\n",
       "  <tbody>\n",
       "    <tr>\n",
       "      <th>count</th>\n",
       "      <td>180</td>\n",
       "      <td>180</td>\n",
       "      <td>180</td>\n",
       "    </tr>\n",
       "    <tr>\n",
       "      <th>unique</th>\n",
       "      <td>3</td>\n",
       "      <td>2</td>\n",
       "      <td>2</td>\n",
       "    </tr>\n",
       "    <tr>\n",
       "      <th>top</th>\n",
       "      <td>KP281</td>\n",
       "      <td>Male</td>\n",
       "      <td>Partnered</td>\n",
       "    </tr>\n",
       "    <tr>\n",
       "      <th>freq</th>\n",
       "      <td>80</td>\n",
       "      <td>104</td>\n",
       "      <td>107</td>\n",
       "    </tr>\n",
       "  </tbody>\n",
       "</table>\n",
       "</div>"
      ],
      "text/plain": [
       "       Product Gender MaritalStatus\n",
       "count      180    180           180\n",
       "unique       3      2             2\n",
       "top      KP281   Male     Partnered\n",
       "freq        80    104           107"
      ]
     },
     "execution_count": 14,
     "metadata": {},
     "output_type": "execute_result"
    }
   ],
   "source": [
    "df.describe(include=\"object\")"
   ]
  },
  {
   "cell_type": "markdown",
   "id": "e1c81620-d397-4542-a4dd-d530a48abf8e",
   "metadata": {},
   "source": [
    "\n",
    "Out of a total of 180 purchasers, the data clearly indicates that men are purchasing more frequently than women. Additionally, married individuals are making more purchases compared to singles in this dataset."
   ]
  },
  {
   "cell_type": "markdown",
   "id": "62e7b062-ff0e-46cd-a07d-145952ebe65e",
   "metadata": {},
   "source": [
    "### Let's check the outliers for Income."
   ]
  },
  {
   "cell_type": "code",
   "execution_count": 17,
   "id": "9b6c7720-0baa-4ff0-ad9c-dfd5df0134cc",
   "metadata": {},
   "outputs": [
    {
     "data": {
      "text/plain": [
       "<Axes: xlabel='Income'>"
      ]
     },
     "execution_count": 17,
     "metadata": {},
     "output_type": "execute_result"
    },
    {
     "data": {
      "image/png": "[encoded data removed]",
      "text/plain": [
       "<Figure size 640x480 with 1 Axes>"
      ]
     },
     "metadata": {},
     "output_type": "display_data"
    }
   ],
   "source": [
    "sns.boxplot(x=df['Income'])"
   ]
  },
  {
   "cell_type": "markdown",
   "id": "f4da0845-885f-48aa-a29f-28e62a4d6b4d",
   "metadata": {},
   "source": [
    "We can clearly say that the majority of people have an income between 45,000 and 58,000, but there are also those who have a very high income, more than 85,000."
   ]
  },
  {
   "cell_type": "code",
   "execution_count": 19,
   "id": "c63d5e4b-dfb7-463a-ad9e-53ab037e1791",
   "metadata": {},
   "outputs": [
    {
     "data": {
      "text/plain": [
       "<Axes: xlabel='Miles'>"
      ]
     },
     "execution_count": 19,
     "metadata": {},
     "output_type": "execute_result"
    },
    {
     "data": {
      "image/png": "[encoded data removed]",
      "text/plain": [
       "<Figure size 640x480 with 1 Axes>"
      ]
     },
     "metadata": {},
     "output_type": "display_data"
    }
   ],
   "source": [
    "sns.boxplot(x=df['Miles'])"
   ]
  },
  {
   "cell_type": "markdown",
   "id": "eea10869-6aea-4178-906c-70761af14cab",
   "metadata": {},
   "source": [
    "Most people expect to walk or run 55 to 125 miles per week. But there are also people with very high expectations who want to walk more than 200 miles."
   ]
  },
  {
   "cell_type": "code",
   "execution_count": 21,
   "id": "510dc92c-0c41-40fe-8964-b66c5f102795",
   "metadata": {},
   "outputs": [
    {
     "data": {
      "text/plain": [
       "Product\n",
       "KP281    44.444444\n",
       "KP481    33.333333\n",
       "KP781    22.222222\n",
       "Name: proportion, dtype: float64"
      ]
     },
     "execution_count": 21,
     "metadata": {},
     "output_type": "execute_result"
    }
   ],
   "source": [
    "df['Product'].value_counts(normalize=True)*100"
   ]
  },
  {
   "cell_type": "markdown",
   "id": "a77aa681-6667-4b6f-94f5-7335b6b326b7",
   "metadata": {},
   "source": [
    "It is evident that the 'KP281' model is the most popular choice, accounting for over 44% of total sales. Followed by 'KP481' and 'KP781' with 33.33 % and 22.22 % respectively.    "
   ]
  },
  {
   "cell_type": "code",
   "execution_count": 23,
   "id": "c4d1364b-704c-4aa5-83a5-e251999d4113",
   "metadata": {},
   "outputs": [
    {
     "data": {
      "text/plain": [
       "<Axes: xlabel='Gender', ylabel='Income'>"
      ]
     },
     "execution_count": 23,
     "metadata": {},
     "output_type": "execute_result"
    },
    {
     "data": {
      "image/png": "[encoded data removed]",
      "text/plain": [
       "<Figure size 640x480 with 1 Axes>"
      ]
     },
     "metadata": {},
     "output_type": "display_data"
    }
   ],
   "source": [
    "sns.boxplot(x=\"Gender\",y=\"Income\",hue=\"Product\",data=df)"
   ]
  },
  {
   "cell_type": "markdown",
   "id": "4423b1c9-626d-4f29-a79b-740b4d055da4",
   "metadata": {},
   "source": [
    "With respect to the above analysis, we can say that among those who are buying the product \"KP781,\" men have a higher income than women."
   ]
  },
  {
   "cell_type": "code",
   "execution_count": 25,
   "id": "a4cbb2f2-6a5c-4b49-b26e-26f70663e0b5",
   "metadata": {},
   "outputs": [
    {
     "data": {
      "text/plain": [
       "<Axes: xlabel='Product', ylabel='Income'>"
      ]
     },
     "execution_count": 25,
     "metadata": {},
     "output_type": "execute_result"
    },
    {
     "data": {
      "image/png": "[encoded data removed]",
      "text/plain": [
       "<Figure size 640x480 with 1 Axes>"
      ]
     },
     "metadata": {},
     "output_type": "display_data"
    }
   ],
   "source": [
    "sns.boxplot(x='Product',y='Income',data=df)"
   ]
  },
  {
   "cell_type": "markdown",
   "id": "f54daf3c-3db1-4d53-b271-c0aa41141f9e",
   "metadata": {},
   "source": [
    "We can see that people who are buying products 'KP281' and 'KP481' have almost the same mean income. But the people who are buying product 'KP781' have very high incomes."
   ]
  },
  {
   "cell_type": "code",
   "execution_count": 27,
   "id": "2a5a569c-a5f9-4c5e-82b0-ba31131adb0e",
   "metadata": {},
   "outputs": [
    {
     "data": {
      "text/html": [
       "<div>\n",
       "<style scoped>\n",
       "    .dataframe tbody tr th:only-of-type {\n",
       "        vertical-align: middle;\n",
       "    }\n",
       "\n",
       "    .dataframe tbody tr th {\n",
       "        vertical-align: top;\n",
       "    }\n",
       "\n",
       "    .dataframe thead th {\n",
       "        text-align: right;\n",
       "    }\n",
       "</style>\n",
       "<table border=\"1\" class=\"dataframe\">\n",
       "  <thead>\n",
       "    <tr style=\"text-align: right;\">\n",
       "      <th></th>\n",
       "      <th>Product</th>\n",
       "      <th>Age</th>\n",
       "      <th>Gender</th>\n",
       "      <th>Education</th>\n",
       "      <th>MaritalStatus</th>\n",
       "      <th>Usage</th>\n",
       "      <th>Fitness</th>\n",
       "      <th>Income</th>\n",
       "      <th>Miles</th>\n",
       "    </tr>\n",
       "  </thead>\n",
       "  <tbody>\n",
       "    <tr>\n",
       "      <th>0</th>\n",
       "      <td>KP281</td>\n",
       "      <td>18</td>\n",
       "      <td>Male</td>\n",
       "      <td>14</td>\n",
       "      <td>Single</td>\n",
       "      <td>3</td>\n",
       "      <td>4</td>\n",
       "      <td>29562</td>\n",
       "      <td>112</td>\n",
       "    </tr>\n",
       "    <tr>\n",
       "      <th>1</th>\n",
       "      <td>KP281</td>\n",
       "      <td>19</td>\n",
       "      <td>Male</td>\n",
       "      <td>15</td>\n",
       "      <td>Single</td>\n",
       "      <td>2</td>\n",
       "      <td>3</td>\n",
       "      <td>31836</td>\n",
       "      <td>75</td>\n",
       "    </tr>\n",
       "    <tr>\n",
       "      <th>2</th>\n",
       "      <td>KP281</td>\n",
       "      <td>19</td>\n",
       "      <td>Female</td>\n",
       "      <td>14</td>\n",
       "      <td>Partnered</td>\n",
       "      <td>4</td>\n",
       "      <td>3</td>\n",
       "      <td>30699</td>\n",
       "      <td>66</td>\n",
       "    </tr>\n",
       "    <tr>\n",
       "      <th>3</th>\n",
       "      <td>KP281</td>\n",
       "      <td>19</td>\n",
       "      <td>Male</td>\n",
       "      <td>12</td>\n",
       "      <td>Single</td>\n",
       "      <td>3</td>\n",
       "      <td>3</td>\n",
       "      <td>32973</td>\n",
       "      <td>85</td>\n",
       "    </tr>\n",
       "    <tr>\n",
       "      <th>4</th>\n",
       "      <td>KP281</td>\n",
       "      <td>20</td>\n",
       "      <td>Male</td>\n",
       "      <td>13</td>\n",
       "      <td>Partnered</td>\n",
       "      <td>4</td>\n",
       "      <td>2</td>\n",
       "      <td>35247</td>\n",
       "      <td>47</td>\n",
       "    </tr>\n",
       "  </tbody>\n",
       "</table>\n",
       "</div>"
      ],
      "text/plain": [
       "  Product  Age  Gender  Education MaritalStatus  Usage  Fitness  Income  Miles\n",
       "0   KP281   18    Male         14        Single      3        4   29562    112\n",
       "1   KP281   19    Male         15        Single      2        3   31836     75\n",
       "2   KP281   19  Female         14     Partnered      4        3   30699     66\n",
       "3   KP281   19    Male         12        Single      3        3   32973     85\n",
       "4   KP281   20    Male         13     Partnered      4        2   35247     47"
      ]
     },
     "execution_count": 27,
     "metadata": {},
     "output_type": "execute_result"
    }
   ],
   "source": [
    "df.head()"
   ]
  },
  {
   "cell_type": "code",
   "execution_count": 28,
   "id": "9212c51d-f217-43b2-904b-1d78d6ab4857",
   "metadata": {},
   "outputs": [
    {
     "data": {
      "text/plain": [
       "<Axes: xlabel='MaritalStatus', ylabel='Income'>"
      ]
     },
     "execution_count": 28,
     "metadata": {},
     "output_type": "execute_result"
    },
    {
     "data": {
      "image/png": "[encoded data removed]",
      "text/plain": [
       "<Figure size 640x480 with 1 Axes>"
      ]
     },
     "metadata": {},
     "output_type": "display_data"
    }
   ],
   "source": [
    "sns.boxplot(x=\"MaritalStatus\",y='Income',hue='Product',data=df)"
   ]
  },
  {
   "cell_type": "markdown",
   "id": "68a3898c-1de8-448d-8761-7e66bb1d04ae",
   "metadata": {},
   "source": [
    "\n",
    "The analysis clearly indicates that among purchasers of the \"KP781\" model, partnered individuals have significantly higher incomes compared to single individuals purchasing the same product"
   ]
  },
  {
   "cell_type": "code",
   "execution_count": 30,
   "id": "2a30aea3-f756-4e15-8b15-a99d01c8a356",
   "metadata": {},
   "outputs": [
    {
     "data": {
      "text/plain": [
       "<Axes: xlabel='MaritalStatus', ylabel='count'>"
      ]
     },
     "execution_count": 30,
     "metadata": {},
     "output_type": "execute_result"
    },
    {
     "data": {
      "image/png": "[encoded data removed]",
      "text/plain": [
       "<Figure size 640x480 with 1 Axes>"
      ]
     },
     "metadata": {},
     "output_type": "display_data"
    }
   ],
   "source": [
    "sns.countplot(x=\"MaritalStatus\",hue='Product',data=df)"
   ]
  },
  {
   "cell_type": "markdown",
   "id": "8a88fd77-395f-43bd-8ba8-92dfe7f52b8d",
   "metadata": {},
   "source": [
    "Regardless of marital status, the most economical model, \"KP281,\" is the highest-selling product. However, compared to single individuals, married people have made purchases across all product categories."
   ]
  },
  {
   "cell_type": "code",
   "execution_count": 32,
   "id": "a830188e-a5de-4b4d-ba84-76d0d4400969",
   "metadata": {},
   "outputs": [
    {
     "data": {
      "text/plain": [
       "MaritalStatus\n",
       "Partnered    55763.000000\n",
       "Single       50724.424658\n",
       "Name: Income, dtype: float64"
      ]
     },
     "execution_count": 32,
     "metadata": {},
     "output_type": "execute_result"
    }
   ],
   "source": [
    "income_count=df.groupby(\"MaritalStatus\")['Income'].mean()\n",
    "income_count"
   ]
  },
  {
   "cell_type": "markdown",
   "id": "21a138b6-3841-4b40-be56-fff963abbbbd",
   "metadata": {},
   "source": [
    "We can clearly see that married people have more income than single people. "
   ]
  },
  {
   "cell_type": "code",
   "execution_count": 34,
   "id": "1551aaa7-a569-4592-9ab5-aed79bfc8c11",
   "metadata": {},
   "outputs": [
    {
     "data": {
      "text/plain": [
       "<Axes: xlabel='Gender', ylabel='count'>"
      ]
     },
     "execution_count": 34,
     "metadata": {},
     "output_type": "execute_result"
    },
    {
     "data": {
      "image/png": "[encoded data removed]",
      "text/plain": [
       "<Figure size 640x480 with 1 Axes>"
      ]
     },
     "metadata": {},
     "output_type": "display_data"
    }
   ],
   "source": [
    "sns.countplot(x=\"Gender\",hue='Product',data=df)\n"
   ]
  },
  {
   "cell_type": "code",
   "execution_count": 36,
   "id": "ec8c3048-4dc8-4dee-9cf5-09eaeb79dae4",
   "metadata": {},
   "outputs": [
    {
     "data": {
      "text/plain": [
       "<Axes: xlabel='Age'>"
      ]
     },
     "execution_count": 36,
     "metadata": {},
     "output_type": "execute_result"
    },
    {
     "data": {
      "image/png": "[encoded data removed]",
      "text/plain": [
       "<Figure size 640x480 with 1 Axes>"
      ]
     },
     "metadata": {},
     "output_type": "display_data"
    }
   ],
   "source": [
    "sns.boxplot(x=\"Age\",hue='Product',data=df,gap=0.1)\n"
   ]
  },
  {
   "cell_type": "markdown",
   "id": "b22a7ecf-3148-44da-85d2-f760cdce99a9",
   "metadata": {},
   "source": [
    "The analysis reveals that the most expensive treadmill model is predominantly purchased by individuals aged 25 to 30. However, it's noteworthy that older customers also show interest in this top-tier product, indicating its appeal across different age groups. On the other hand, when examining the overall age distribution across all product categories, the mean age falls between 23 and 25 years. This suggests that younger customers, who are likely more health-conscious and tech-savvy, are a significant segment of the market, driving purchases across the entire range of treadmill models."
   ]
  },
  {
   "cell_type": "code",
   "execution_count": 38,
   "id": "1651c670-73fe-49bb-b4e0-57ba0042a9fa",
   "metadata": {},
   "outputs": [
    {
     "data": {
      "text/plain": [
       "<Axes: xlabel='Product', ylabel='Miles'>"
      ]
     },
     "execution_count": 38,
     "metadata": {},
     "output_type": "execute_result"
    },
    {
     "data": {
      "image/png": "[encoded data removed]",
      "text/plain": [
       "<Figure size 640x480 with 1 Axes>"
      ]
     },
     "metadata": {},
     "output_type": "display_data"
    }
   ],
   "source": [
    "sns.boxplot(x='Product',y='Miles',data=df,color='green')"
   ]
  },
  {
   "cell_type": "markdown",
   "id": "5f03634f-12bb-4cbd-9abc-3b61fe4c9064",
   "metadata": {},
   "source": [
    "This demonstrates that consumers who buy the most expensive product tend to walk/run more miles per week.However, there is not a major difference between the entry level product and the mid-tier product in terms of weeks per mile."
   ]
  },
  {
   "cell_type": "code",
   "execution_count": 76,
   "id": "163919df-d7d7-4d14-bdf0-b74294414438",
   "metadata": {},
   "outputs": [],
   "source": [
    "corr_column=df.drop(columns=['MaritalStatus','Gender','Product'],axis=1)"
   ]
  },
  {
   "cell_type": "code",
   "execution_count": 100,
   "id": "d7148034-292b-4a00-b454-3975bef624b0",
   "metadata": {},
   "outputs": [
    {
     "data": {
      "text/plain": [
       "<Axes: >"
      ]
     },
     "execution_count": 100,
     "metadata": {},
     "output_type": "execute_result"
    },
    {
     "data": {
      "image/png": "[encoded data removed]",
      "text/plain": [
       "<Figure size 640x480 with 2 Axes>"
      ]
     },
     "metadata": {},
     "output_type": "display_data"
    }
   ],
   "source": [
    "sns.heatmap(corr_column.corr(),annot=True,cmap='coolwarm')"
   ]
  },
  {
   "cell_type": "markdown",
   "id": "2ea016d2-62cf-4999-be5a-67ae7beda9c0",
   "metadata": {},
   "source": [
    "1)Strong Correlation Between Fitness and Miles:\n",
    "Our analysis reveals a significant correlation between fitness levels and the number of miles walked or run. Simply put, the more a person walks or runs, the better their fitness tends to be.\n",
    "\n",
    "2)Usage Frequency Tied to Fitness and Mileage:\n",
    "The frequency of usage, or how often a client plans to use their fitness equipment weekly, is closely linked to both the miles they cover and their overall fitness.\n",
    "\n",
    "3)Income Linked to Age and Experience:\n",
    "We observe that individuals with greater age and experience generally tend to have higher income levels, which is an important demographic insight.\n",
    "\n",
    "4)Education's Impact on Income:\n",
    "There's a strong correlation between income and education, reinforcing that higher educational attainment often leads to increased earnings.\n",
    "\n",
    "5)Income Influences Activity Levels:\n",
    "Those with higher incomes are more likely to engage in physical activities, reflected in the higher miles they walk or run.\n",
    "\n",
    "6)Age Has Minimal Impact on Fitness, Miles, and Usage:\n",
    "Interestingly, age does not significantly influence miles walked, fitness levels, or usage frequency, suggesting that these factors are less dependent on age."
   ]
  },
  {
   "cell_type": "code",
   "execution_count": 104,
   "id": "3ea42b79-2bb1-457f-aa5a-c3ca46ab682b",
   "metadata": {},
   "outputs": [
    {
     "data": {
      "text/html": [
       "<div>\n",
       "<style scoped>\n",
       "    .dataframe tbody tr th:only-of-type {\n",
       "        vertical-align: middle;\n",
       "    }\n",
       "\n",
       "    .dataframe tbody tr th {\n",
       "        vertical-align: top;\n",
       "    }\n",
       "\n",
       "    .dataframe thead th {\n",
       "        text-align: right;\n",
       "    }\n",
       "</style>\n",
       "<table border=\"1\" class=\"dataframe\">\n",
       "  <thead>\n",
       "    <tr style=\"text-align: right;\">\n",
       "      <th>Product</th>\n",
       "      <th>KP281</th>\n",
       "      <th>KP481</th>\n",
       "      <th>KP781</th>\n",
       "      <th>All</th>\n",
       "    </tr>\n",
       "    <tr>\n",
       "      <th>Gender</th>\n",
       "      <th></th>\n",
       "      <th></th>\n",
       "      <th></th>\n",
       "      <th></th>\n",
       "    </tr>\n",
       "  </thead>\n",
       "  <tbody>\n",
       "    <tr>\n",
       "      <th>Female</th>\n",
       "      <td>40</td>\n",
       "      <td>29</td>\n",
       "      <td>7</td>\n",
       "      <td>76</td>\n",
       "    </tr>\n",
       "    <tr>\n",
       "      <th>Male</th>\n",
       "      <td>40</td>\n",
       "      <td>31</td>\n",
       "      <td>33</td>\n",
       "      <td>104</td>\n",
       "    </tr>\n",
       "    <tr>\n",
       "      <th>All</th>\n",
       "      <td>80</td>\n",
       "      <td>60</td>\n",
       "      <td>40</td>\n",
       "      <td>180</td>\n",
       "    </tr>\n",
       "  </tbody>\n",
       "</table>\n",
       "</div>"
      ],
      "text/plain": [
       "Product  KP281  KP481  KP781  All\n",
       "Gender                           \n",
       "Female      40     29      7   76\n",
       "Male        40     31     33  104\n",
       "All         80     60     40  180"
      ]
     },
     "execution_count": 104,
     "metadata": {},
     "output_type": "execute_result"
    }
   ],
   "source": [
    "pd.crosstab(index=df['Gender'],columns=df['Product'],margins=True)"
   ]
  },
  {
   "cell_type": "code",
   "execution_count": 108,
   "id": "51ebc3d4-5f30-47b7-8d08-1ed0d61758d3",
   "metadata": {},
   "outputs": [
    {
     "data": {
      "text/html": [
       "<div>\n",
       "<style scoped>\n",
       "    .dataframe tbody tr th:only-of-type {\n",
       "        vertical-align: middle;\n",
       "    }\n",
       "\n",
       "    .dataframe tbody tr th {\n",
       "        vertical-align: top;\n",
       "    }\n",
       "\n",
       "    .dataframe thead th {\n",
       "        text-align: right;\n",
       "    }\n",
       "</style>\n",
       "<table border=\"1\" class=\"dataframe\">\n",
       "  <thead>\n",
       "    <tr style=\"text-align: right;\">\n",
       "      <th>Product</th>\n",
       "      <th>KP281</th>\n",
       "      <th>KP481</th>\n",
       "      <th>KP781</th>\n",
       "    </tr>\n",
       "    <tr>\n",
       "      <th>Gender</th>\n",
       "      <th></th>\n",
       "      <th></th>\n",
       "      <th></th>\n",
       "    </tr>\n",
       "  </thead>\n",
       "  <tbody>\n",
       "    <tr>\n",
       "      <th>Female</th>\n",
       "      <td>52.631579</td>\n",
       "      <td>38.157895</td>\n",
       "      <td>9.210526</td>\n",
       "    </tr>\n",
       "    <tr>\n",
       "      <th>Male</th>\n",
       "      <td>38.461538</td>\n",
       "      <td>29.807692</td>\n",
       "      <td>31.730769</td>\n",
       "    </tr>\n",
       "    <tr>\n",
       "      <th>All</th>\n",
       "      <td>44.444444</td>\n",
       "      <td>33.333333</td>\n",
       "      <td>22.222222</td>\n",
       "    </tr>\n",
       "  </tbody>\n",
       "</table>\n",
       "</div>"
      ],
      "text/plain": [
       "Product      KP281      KP481      KP781\n",
       "Gender                                  \n",
       "Female   52.631579  38.157895   9.210526\n",
       "Male     38.461538  29.807692  31.730769\n",
       "All      44.444444  33.333333  22.222222"
      ]
     },
     "execution_count": 108,
     "metadata": {},
     "output_type": "execute_result"
    }
   ],
   "source": [
    "pd.crosstab(index=df['Gender'],columns=df['Product'],margins=True,normalize='index')*100"
   ]
  },
  {
   "cell_type": "markdown",
   "id": "cf1be39e-c7a9-436b-9af3-35914539212a",
   "metadata": {},
   "source": [
    "The 'KP281' model is popular among buyers regardless of gender, with over 52% of women choosing this entry-level product. Interestingly, men's purchases are more evenly distributed across the different models, indicating no significant preference for any single product."
   ]
  },
  {
   "cell_type": "code",
   "execution_count": 112,
   "id": "17969dfa-5fb1-4193-be51-ae0e237acf5b",
   "metadata": {},
   "outputs": [
    {
     "data": {
      "text/html": [
       "<div>\n",
       "<style scoped>\n",
       "    .dataframe tbody tr th:only-of-type {\n",
       "        vertical-align: middle;\n",
       "    }\n",
       "\n",
       "    .dataframe tbody tr th {\n",
       "        vertical-align: top;\n",
       "    }\n",
       "\n",
       "    .dataframe thead th {\n",
       "        text-align: right;\n",
       "    }\n",
       "</style>\n",
       "<table border=\"1\" class=\"dataframe\">\n",
       "  <thead>\n",
       "    <tr style=\"text-align: right;\">\n",
       "      <th>Product</th>\n",
       "      <th>KP281</th>\n",
       "      <th>KP481</th>\n",
       "      <th>KP781</th>\n",
       "      <th>All</th>\n",
       "    </tr>\n",
       "    <tr>\n",
       "      <th>Gender</th>\n",
       "      <th></th>\n",
       "      <th></th>\n",
       "      <th></th>\n",
       "      <th></th>\n",
       "    </tr>\n",
       "  </thead>\n",
       "  <tbody>\n",
       "    <tr>\n",
       "      <th>Female</th>\n",
       "      <td>50.0</td>\n",
       "      <td>48.333333</td>\n",
       "      <td>17.5</td>\n",
       "      <td>42.222222</td>\n",
       "    </tr>\n",
       "    <tr>\n",
       "      <th>Male</th>\n",
       "      <td>50.0</td>\n",
       "      <td>51.666667</td>\n",
       "      <td>82.5</td>\n",
       "      <td>57.777778</td>\n",
       "    </tr>\n",
       "  </tbody>\n",
       "</table>\n",
       "</div>"
      ],
      "text/plain": [
       "Product  KP281      KP481  KP781        All\n",
       "Gender                                     \n",
       "Female    50.0  48.333333   17.5  42.222222\n",
       "Male      50.0  51.666667   82.5  57.777778"
      ]
     },
     "execution_count": 112,
     "metadata": {},
     "output_type": "execute_result"
    }
   ],
   "source": [
    "pd.crosstab(index=df['Gender'],columns=df['Product'],margins=True,normalize='columns')*100"
   ]
  },
  {
   "cell_type": "markdown",
   "id": "c5fea436-2fbc-4997-b3f8-22dd78bdf7f2",
   "metadata": {},
   "source": [
    "It is evident that only 17.5% of the buyers for the top-tier product 'KP781' are women."
   ]
  },
  {
   "cell_type": "code",
   "execution_count": 114,
   "id": "dda6fb5d-f18f-472e-ae93-fa03c7696034",
   "metadata": {},
   "outputs": [
    {
     "data": {
      "text/html": [
       "<div>\n",
       "<style scoped>\n",
       "    .dataframe tbody tr th:only-of-type {\n",
       "        vertical-align: middle;\n",
       "    }\n",
       "\n",
       "    .dataframe tbody tr th {\n",
       "        vertical-align: top;\n",
       "    }\n",
       "\n",
       "    .dataframe thead th {\n",
       "        text-align: right;\n",
       "    }\n",
       "</style>\n",
       "<table border=\"1\" class=\"dataframe\">\n",
       "  <thead>\n",
       "    <tr style=\"text-align: right;\">\n",
       "      <th>Product</th>\n",
       "      <th>KP281</th>\n",
       "      <th>KP481</th>\n",
       "      <th>KP781</th>\n",
       "      <th>All</th>\n",
       "    </tr>\n",
       "    <tr>\n",
       "      <th>Gender</th>\n",
       "      <th></th>\n",
       "      <th></th>\n",
       "      <th></th>\n",
       "      <th></th>\n",
       "    </tr>\n",
       "  </thead>\n",
       "  <tbody>\n",
       "    <tr>\n",
       "      <th>Female</th>\n",
       "      <td>22.222222</td>\n",
       "      <td>16.111111</td>\n",
       "      <td>3.888889</td>\n",
       "      <td>42.222222</td>\n",
       "    </tr>\n",
       "    <tr>\n",
       "      <th>Male</th>\n",
       "      <td>22.222222</td>\n",
       "      <td>17.222222</td>\n",
       "      <td>18.333333</td>\n",
       "      <td>57.777778</td>\n",
       "    </tr>\n",
       "    <tr>\n",
       "      <th>All</th>\n",
       "      <td>44.444444</td>\n",
       "      <td>33.333333</td>\n",
       "      <td>22.222222</td>\n",
       "      <td>100.000000</td>\n",
       "    </tr>\n",
       "  </tbody>\n",
       "</table>\n",
       "</div>"
      ],
      "text/plain": [
       "Product      KP281      KP481      KP781         All\n",
       "Gender                                              \n",
       "Female   22.222222  16.111111   3.888889   42.222222\n",
       "Male     22.222222  17.222222  18.333333   57.777778\n",
       "All      44.444444  33.333333  22.222222  100.000000"
      ]
     },
     "execution_count": 114,
     "metadata": {},
     "output_type": "execute_result"
    }
   ],
   "source": [
    "pd.crosstab(index=df['Gender'],columns=df['Product'],margins=True,normalize=True)*100"
   ]
  },
  {
   "cell_type": "markdown",
   "id": "a88c4265-64b2-489b-b650-3ec1707d5950",
   "metadata": {},
   "source": [
    "Product KP281: \n",
    "This entry-level model has an equal appeal across genders, with 22.2% of both men and women purchasing it, showing a balanced preference.\n",
    "\n",
    "Product KP481:\n",
    "The mid-tier model sees slightly higher male engagement at 17.2% compared to 16.1% for women, suggesting a moderate skew toward male buyers for this model.\n",
    "\n",
    "Product KP781:\n",
    "The top-tier model is notably more popular among male buyers, with 18.3% of men opting for it, compared to only 3.9% of women. This significant difference indicates a strong male preference for the premium product.\n",
    "\n",
    "Overall Gender Split:\n",
    "Males represent a higher overall purchasing percentage (57.8%), with women accounting for 42.2%. This reflects a more evenly distributed purchasing pattern among men across the product range, while women show a stronger inclination toward the entry-level model."
   ]
  },
  {
   "cell_type": "code",
   "execution_count": 118,
   "id": "dff82ee9-1274-4d14-ae49-771516c45673",
   "metadata": {},
   "outputs": [
    {
     "data": {
      "text/html": [
       "<div>\n",
       "<style scoped>\n",
       "    .dataframe tbody tr th:only-of-type {\n",
       "        vertical-align: middle;\n",
       "    }\n",
       "\n",
       "    .dataframe tbody tr th {\n",
       "        vertical-align: top;\n",
       "    }\n",
       "\n",
       "    .dataframe thead th {\n",
       "        text-align: right;\n",
       "    }\n",
       "</style>\n",
       "<table border=\"1\" class=\"dataframe\">\n",
       "  <thead>\n",
       "    <tr style=\"text-align: right;\">\n",
       "      <th>Product</th>\n",
       "      <th>KP281</th>\n",
       "      <th>KP481</th>\n",
       "      <th>KP781</th>\n",
       "      <th>All</th>\n",
       "    </tr>\n",
       "    <tr>\n",
       "      <th>MaritalStatus</th>\n",
       "      <th></th>\n",
       "      <th></th>\n",
       "      <th></th>\n",
       "      <th></th>\n",
       "    </tr>\n",
       "  </thead>\n",
       "  <tbody>\n",
       "    <tr>\n",
       "      <th>Partnered</th>\n",
       "      <td>26.666667</td>\n",
       "      <td>20.000000</td>\n",
       "      <td>12.777778</td>\n",
       "      <td>59.444444</td>\n",
       "    </tr>\n",
       "    <tr>\n",
       "      <th>Single</th>\n",
       "      <td>17.777778</td>\n",
       "      <td>13.333333</td>\n",
       "      <td>9.444444</td>\n",
       "      <td>40.555556</td>\n",
       "    </tr>\n",
       "    <tr>\n",
       "      <th>All</th>\n",
       "      <td>44.444444</td>\n",
       "      <td>33.333333</td>\n",
       "      <td>22.222222</td>\n",
       "      <td>100.000000</td>\n",
       "    </tr>\n",
       "  </tbody>\n",
       "</table>\n",
       "</div>"
      ],
      "text/plain": [
       "Product            KP281      KP481      KP781         All\n",
       "MaritalStatus                                             \n",
       "Partnered      26.666667  20.000000  12.777778   59.444444\n",
       "Single         17.777778  13.333333   9.444444   40.555556\n",
       "All            44.444444  33.333333  22.222222  100.000000"
      ]
     },
     "execution_count": 118,
     "metadata": {},
     "output_type": "execute_result"
    }
   ],
   "source": [
    "pd.crosstab(index=df['MaritalStatus'],columns=df['Product'],margins=True,normalize=True)*100"
   ]
  },
  {
   "cell_type": "markdown",
   "id": "6f6e06e0-30d1-423e-8cef-5f8eedcb2ae6",
   "metadata": {},
   "source": [
    "A significant 59.4% of total purchases are made by partnered individuals, with a higher preference for all three treadmill models. This indicates that partnered individuals are more inclined to invest in fitness equipment, particularly the KP281 and KP481 models, which make up the bulk of their purchases.\n",
    "\n",
    "Single individuals make up 40.6% of the total purchases, with a notable preference for the KP281 entry-level model. This suggests that single buyers might be more budget-conscious or are looking for more basic fitness solutions."
   ]
  },
  {
   "cell_type": "code",
   "execution_count": 124,
   "id": "65481ce4-efdb-4167-8150-22f2eb3cef13",
   "metadata": {},
   "outputs": [
    {
     "data": {
      "text/html": [
       "<div>\n",
       "<style scoped>\n",
       "    .dataframe tbody tr th:only-of-type {\n",
       "        vertical-align: middle;\n",
       "    }\n",
       "\n",
       "    .dataframe tbody tr th {\n",
       "        vertical-align: top;\n",
       "    }\n",
       "\n",
       "    .dataframe thead th {\n",
       "        text-align: right;\n",
       "    }\n",
       "</style>\n",
       "<table border=\"1\" class=\"dataframe\">\n",
       "  <thead>\n",
       "    <tr style=\"text-align: right;\">\n",
       "      <th></th>\n",
       "      <th>Product</th>\n",
       "      <th>Age</th>\n",
       "      <th>Gender</th>\n",
       "      <th>Education</th>\n",
       "      <th>MaritalStatus</th>\n",
       "      <th>Usage</th>\n",
       "      <th>Fitness</th>\n",
       "      <th>Income</th>\n",
       "      <th>Miles</th>\n",
       "      <th>group</th>\n",
       "      <th>Group</th>\n",
       "    </tr>\n",
       "  </thead>\n",
       "  <tbody>\n",
       "    <tr>\n",
       "      <th>0</th>\n",
       "      <td>KP281</td>\n",
       "      <td>18</td>\n",
       "      <td>Male</td>\n",
       "      <td>14</td>\n",
       "      <td>Single</td>\n",
       "      <td>3</td>\n",
       "      <td>4</td>\n",
       "      <td>29562</td>\n",
       "      <td>112</td>\n",
       "      <td>0-18</td>\n",
       "      <td>0-18</td>\n",
       "    </tr>\n",
       "    <tr>\n",
       "      <th>1</th>\n",
       "      <td>KP281</td>\n",
       "      <td>19</td>\n",
       "      <td>Male</td>\n",
       "      <td>15</td>\n",
       "      <td>Single</td>\n",
       "      <td>2</td>\n",
       "      <td>3</td>\n",
       "      <td>31836</td>\n",
       "      <td>75</td>\n",
       "      <td>19-35</td>\n",
       "      <td>19-35</td>\n",
       "    </tr>\n",
       "    <tr>\n",
       "      <th>2</th>\n",
       "      <td>KP281</td>\n",
       "      <td>19</td>\n",
       "      <td>Female</td>\n",
       "      <td>14</td>\n",
       "      <td>Partnered</td>\n",
       "      <td>4</td>\n",
       "      <td>3</td>\n",
       "      <td>30699</td>\n",
       "      <td>66</td>\n",
       "      <td>19-35</td>\n",
       "      <td>19-35</td>\n",
       "    </tr>\n",
       "    <tr>\n",
       "      <th>3</th>\n",
       "      <td>KP281</td>\n",
       "      <td>19</td>\n",
       "      <td>Male</td>\n",
       "      <td>12</td>\n",
       "      <td>Single</td>\n",
       "      <td>3</td>\n",
       "      <td>3</td>\n",
       "      <td>32973</td>\n",
       "      <td>85</td>\n",
       "      <td>19-35</td>\n",
       "      <td>19-35</td>\n",
       "    </tr>\n",
       "    <tr>\n",
       "      <th>4</th>\n",
       "      <td>KP281</td>\n",
       "      <td>20</td>\n",
       "      <td>Male</td>\n",
       "      <td>13</td>\n",
       "      <td>Partnered</td>\n",
       "      <td>4</td>\n",
       "      <td>2</td>\n",
       "      <td>35247</td>\n",
       "      <td>47</td>\n",
       "      <td>19-35</td>\n",
       "      <td>19-35</td>\n",
       "    </tr>\n",
       "  </tbody>\n",
       "</table>\n",
       "</div>"
      ],
      "text/plain": [
       "  Product  Age  Gender  Education MaritalStatus  Usage  Fitness  Income  \\\n",
       "0   KP281   18    Male         14        Single      3        4   29562   \n",
       "1   KP281   19    Male         15        Single      2        3   31836   \n",
       "2   KP281   19  Female         14     Partnered      4        3   30699   \n",
       "3   KP281   19    Male         12        Single      3        3   32973   \n",
       "4   KP281   20    Male         13     Partnered      4        2   35247   \n",
       "\n",
       "   Miles  group  Group  \n",
       "0    112   0-18   0-18  \n",
       "1     75  19-35  19-35  \n",
       "2     66  19-35  19-35  \n",
       "3     85  19-35  19-35  \n",
       "4     47  19-35  19-35  "
      ]
     },
     "execution_count": 124,
     "metadata": {},
     "output_type": "execute_result"
    }
   ],
   "source": [
    "df['Group']=pd.cut(x=df['Age'],bins=[0,18,35,50],labels=['0-18','19-35','36-50'])\n",
    "df.head()"
   ]
  },
  {
   "cell_type": "code",
   "execution_count": 128,
   "id": "fc397230-ec82-4db1-b38f-bb10e6037219",
   "metadata": {},
   "outputs": [
    {
     "data": {
      "text/html": [
       "<div>\n",
       "<style scoped>\n",
       "    .dataframe tbody tr th:only-of-type {\n",
       "        vertical-align: middle;\n",
       "    }\n",
       "\n",
       "    .dataframe tbody tr th {\n",
       "        vertical-align: top;\n",
       "    }\n",
       "\n",
       "    .dataframe thead th {\n",
       "        text-align: right;\n",
       "    }\n",
       "</style>\n",
       "<table border=\"1\" class=\"dataframe\">\n",
       "  <thead>\n",
       "    <tr style=\"text-align: right;\">\n",
       "      <th>Product</th>\n",
       "      <th>KP281</th>\n",
       "      <th>KP481</th>\n",
       "      <th>KP781</th>\n",
       "      <th>All</th>\n",
       "    </tr>\n",
       "    <tr>\n",
       "      <th>Group</th>\n",
       "      <th></th>\n",
       "      <th></th>\n",
       "      <th></th>\n",
       "      <th></th>\n",
       "    </tr>\n",
       "  </thead>\n",
       "  <tbody>\n",
       "    <tr>\n",
       "      <th>0-18</th>\n",
       "      <td>0.555556</td>\n",
       "      <td>0.000000</td>\n",
       "      <td>0.000000</td>\n",
       "      <td>0.555556</td>\n",
       "    </tr>\n",
       "    <tr>\n",
       "      <th>19-35</th>\n",
       "      <td>36.111111</td>\n",
       "      <td>28.888889</td>\n",
       "      <td>18.888889</td>\n",
       "      <td>83.888889</td>\n",
       "    </tr>\n",
       "    <tr>\n",
       "      <th>36-50</th>\n",
       "      <td>7.777778</td>\n",
       "      <td>4.444444</td>\n",
       "      <td>3.333333</td>\n",
       "      <td>15.555556</td>\n",
       "    </tr>\n",
       "    <tr>\n",
       "      <th>All</th>\n",
       "      <td>44.444444</td>\n",
       "      <td>33.333333</td>\n",
       "      <td>22.222222</td>\n",
       "      <td>100.000000</td>\n",
       "    </tr>\n",
       "  </tbody>\n",
       "</table>\n",
       "</div>"
      ],
      "text/plain": [
       "Product      KP281      KP481      KP781         All\n",
       "Group                                               \n",
       "0-18      0.555556   0.000000   0.000000    0.555556\n",
       "19-35    36.111111  28.888889  18.888889   83.888889\n",
       "36-50     7.777778   4.444444   3.333333   15.555556\n",
       "All      44.444444  33.333333  22.222222  100.000000"
      ]
     },
     "execution_count": 128,
     "metadata": {},
     "output_type": "execute_result"
    }
   ],
   "source": [
    "pd.crosstab(index=df['Group'],columns=df['Product'],margins=True,normalize=True)*100"
   ]
  },
  {
   "cell_type": "markdown",
   "id": "945e79ef-6fc6-4962-a748-f26f8f31fec6",
   "metadata": {},
   "source": [
    "The age group 19-35 is the most active, accounting for over 83% of all purchases across all treadmill models, highlighting a significant preference for fitness equipment among younger customers.\n",
    "\n",
    "The age group 36-50 contributes only 15.5% to the overall purchases, indicating a much lower engagement with the brand’s products compared to the younger demographic."
   ]
  },
  {
   "cell_type": "markdown",
   "id": "bf894a37-2982-4451-acc1-2d6a51de7c51",
   "metadata": {},
   "source": [
    "Based on the data presented, here are the actionable recommendations:\n",
    "\n",
    "Focus on Younger Demographics (19-35 Age Group): The majority of your customers fall within the 19-35 age group, making up over 83% of total sales. Tailor marketing efforts and product features to appeal to this group, emphasizing the benefits that resonate with their lifestyle, such as fitness tracking and social media integration.\n",
    "\n",
    "Reevaluate Engagement Strategies for Older Demographics (36+ Age Group): While younger customers dominate, there’s still potential to grow sales among the 36-50 age group, who represent around 15% of your market. Consider targeted campaigns or product adaptations that address the specific needs and preferences of this segment, like ease of use and low-impact workouts."
   ]
  },
  {
   "cell_type": "markdown",
   "id": "f7807ce3-e1a4-402a-b8fa-ae9bc06c9030",
   "metadata": {},
   "source": [
    "1. Focus on the 19-35 Age Group\n",
    "Action: Develop targeted marketing campaigns for the 19-35 age group.\n",
    "Reason: This group represents the largest customer segment, with over 83% of all treadmill purchases.\n",
    "Implementation: Use social media, influencers, and fitness-related events to engage this demographic more effectively.\n",
    "\n",
    "3. Increase Engagement with the 36-50 Age Group\n",
    "Action: Create tailored promotions and incentives for the 36-50 age group to boost sales in this segment.\n",
    "Reason: This group currently accounts for only 15.5% of purchases, indicating potential for growth.\n",
    "Implementation: Offer promotions on products that cater to the needs and preferences of this age group, such as features focusing on joint protection or lower-impact workouts.\n",
    "4. Expand Product Awareness Among Younger Customers (0-18)\n",
    "Action: Introduce entry-level products or partner with schools and sports programs to increase awareness among younger customers.\n",
    "Reason: The 0-18 age group has minimal engagement, representing only 0.56% of total sales.\n",
    "Implementation: Launch educational campaigns or sponsorships in youth sports to cultivate early brand loyalty.\n",
    "5. Diversify Product Features for Broader Appeal\n",
    "Action: Consider developing new treadmill models with features that cater specifically to the 36-50 age group.\n",
    "Reason: Expanding product features could attract a more diverse customer base, particularly those in older age groups who may have different fitness needs.\n",
    "Implementation: Conduct surveys or focus groups with the 36-50 demographic to understand their preferences and design products accordingly.\n",
    "6. Strengthen Customer Retention Programs\n",
    "Action: Implement loyalty programs or discounts for repeat purchases, especially targeting the 19-35 age group.\n",
    "Reason: Retaining the largest customer segment can ensure long-term profitability.\n",
    "Implementation: Offer personalized discounts, exclusive access to new products, or fitness challenges that encourage continued use and engagement with the brand.\n",
    "7. Monitor and Adjust Marketing Strategies\n",
    "Action: Regularly review sales data and customer feedback to adjust marketing strategies as needed.\n",
    "Reason: Keeping a pulse on changing customer preferences will help maintain and grow market share.\n",
    "Implementation: Set up quarterly reviews to assess the effectiveness of marketing efforts and make necessary adjustments.\n",
    "These recommendations aim to capitalize on current strengths while addressing areas with growth potential. By focusing on the largest customer segment, engaging less active demographics, and continuously adapting to market needs, the business can enhance its market position and drive increased sales."
   ]
  },
  {
   "cell_type": "code",
   "execution_count": null,
   "id": "5eeef23d-025c-41fd-b1c2-e9bd4acfced1",
   "metadata": {},
   "outputs": [],
   "source": []
  }
 ],
 "metadata": {
  "kernelspec": {
   "display_name": "Python 3 (ipykernel)",
   "language": "python",
   "name": "python3"
  },
  "language_info": {
   "codemirror_mode": {
    "name": "ipython",
    "version": 3
   },
   "file_extension": ".py",
   "mimetype": "text/x-python",
   "name": "python",
   "nbconvert_exporter": "python",
   "pygments_lexer": "ipython3",
   "version": "3.12.4"
  }
 },
 "nbformat": 4,
 "nbformat_minor": 5
}
